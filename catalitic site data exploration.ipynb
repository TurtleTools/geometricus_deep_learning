{
 "cells": [
  {
   "cell_type": "code",
   "execution_count": 26,
   "id": "2d87b256",
   "metadata": {},
   "outputs": [
    {
     "name": "stdout",
     "output_type": "stream",
     "text": [
      "The autoreload extension is already loaded. To reload it, use:\n",
      "  %reload_ext autoreload\n"
     ]
    }
   ],
   "source": [
    "import numpy as np\n",
    "from geometricus import GeometricusEmbedding, MomentType, MomentInvariants\n",
    "import prody as pd\n",
    "from umap import UMAP\n",
    "from pathlib import Path\n",
    "from glob import glob\n",
    "from sklearn.ensemble import GradientBoostingClassifier, RandomForestClassifier\n",
    "import networkx as nx\n",
    "from geometricus_deeplearning import embedder, utils\n",
    "import matplotlib.pyplot as plt\n",
    "import torch\n",
    "from itertools import groupby\n",
    "\n",
    "%load_ext autoreload\n",
    "%autoreload 2\n"
   ]
  },
  {
   "cell_type": "code",
   "execution_count": 22,
   "id": "6b8ef6d5",
   "metadata": {},
   "outputs": [],
   "source": [
    "all_csa = [utils.CatalyticActivity.from_line(x) for i,x in enumerate(open(\"./curated_data.csv\", \"r\").readlines()[1:-1]) if x.split(\",\")[4] == \"residue\"]"
   ]
  },
  {
   "cell_type": "code",
   "execution_count": 51,
   "id": "d0e2d947",
   "metadata": {},
   "outputs": [],
   "source": [
    "!mkdir csa_data"
   ]
  },
  {
   "cell_type": "code",
   "execution_count": 47,
   "id": "dea71ca2",
   "metadata": {},
   "outputs": [],
   "source": [
    "groups = {}\n",
    "data = sorted(all_csa, key=lambda x: x.PDB)\n",
    "for k, g in groupby(data, key=lambda x: (x.PDB, x.chain)):\n",
    "    if k[0] and k[1]:\n",
    "        pd.fetchPDB()\n",
    "        groups[k] = list(g)"
   ]
  },
  {
   "cell_type": "code",
   "execution_count": 50,
   "id": "a58a7020",
   "metadata": {},
   "outputs": [],
   "source": []
  },
  {
   "cell_type": "code",
   "execution_count": null,
   "id": "a6ba80b9",
   "metadata": {},
   "outputs": [],
   "source": []
  }
 ],
 "metadata": {
  "kernelspec": {
   "display_name": "geo_env",
   "language": "python",
   "name": "geo_env"
  },
  "language_info": {
   "codemirror_mode": {
    "name": "ipython",
    "version": 3
   },
   "file_extension": ".py",
   "mimetype": "text/x-python",
   "name": "python",
   "nbconvert_exporter": "python",
   "pygments_lexer": "ipython3",
   "version": "3.8.8"
  }
 },
 "nbformat": 4,
 "nbformat_minor": 5
}